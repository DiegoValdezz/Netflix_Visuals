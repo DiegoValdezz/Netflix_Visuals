{
 "cells": [
  {
   "cell_type": "code",
   "execution_count": 3,
   "id": "6d6cf880",
   "metadata": {},
   "outputs": [],
   "source": [
    "import pandas as pd\n",
    "import matplotlib.pyplot as plt\n",
    "import seaborn as sns\n"
   ]
  },
  {
   "cell_type": "code",
   "execution_count": 4,
   "id": "27b8abcd",
   "metadata": {},
   "outputs": [],
   "source": [
    "netflix = pd.read_csv('netflix1.csv')\n",
    "netflix[:10]\n",
    "netflix1 = netflix"
   ]
  },
  {
   "cell_type": "code",
   "execution_count": 5,
   "id": "d7dc67d1",
   "metadata": {},
   "outputs": [
    {
     "data": {
      "text/html": [
       "<div>\n",
       "<style scoped>\n",
       "    .dataframe tbody tr th:only-of-type {\n",
       "        vertical-align: middle;\n",
       "    }\n",
       "\n",
       "    .dataframe tbody tr th {\n",
       "        vertical-align: top;\n",
       "    }\n",
       "\n",
       "    .dataframe thead th {\n",
       "        text-align: right;\n",
       "    }\n",
       "</style>\n",
       "<table border=\"1\" class=\"dataframe\">\n",
       "  <thead>\n",
       "    <tr style=\"text-align: right;\">\n",
       "      <th></th>\n",
       "      <th>show_id</th>\n",
       "      <th>type</th>\n",
       "      <th>title</th>\n",
       "      <th>director</th>\n",
       "      <th>country</th>\n",
       "      <th>date_added</th>\n",
       "      <th>release_year</th>\n",
       "      <th>rating</th>\n",
       "      <th>duration</th>\n",
       "      <th>listed_in</th>\n",
       "    </tr>\n",
       "  </thead>\n",
       "  <tbody>\n",
       "    <tr>\n",
       "      <th>537</th>\n",
       "      <td>s5965</td>\n",
       "      <td>TV Show</td>\n",
       "      <td>9-Feb</td>\n",
       "      <td>Not Given</td>\n",
       "      <td>Pakistan</td>\n",
       "      <td>3/20/2019</td>\n",
       "      <td>2018</td>\n",
       "      <td>TV-14</td>\n",
       "      <td>1 Season</td>\n",
       "      <td>International TV Shows, TV Dramas</td>\n",
       "    </tr>\n",
       "    <tr>\n",
       "      <th>4260</th>\n",
       "      <td>s5966</td>\n",
       "      <td>Movie</td>\n",
       "      <td>22-Jul</td>\n",
       "      <td>Paul Greengrass</td>\n",
       "      <td>Norway</td>\n",
       "      <td>10/10/2018</td>\n",
       "      <td>2018</td>\n",
       "      <td>R</td>\n",
       "      <td>144 min</td>\n",
       "      <td>Dramas, Thrillers</td>\n",
       "    </tr>\n",
       "    <tr>\n",
       "      <th>4261</th>\n",
       "      <td>s5967</td>\n",
       "      <td>Movie</td>\n",
       "      <td>15-Aug</td>\n",
       "      <td>Swapnaneel Jayakar</td>\n",
       "      <td>India</td>\n",
       "      <td>3/29/2019</td>\n",
       "      <td>2019</td>\n",
       "      <td>TV-14</td>\n",
       "      <td>124 min</td>\n",
       "      <td>Comedies, Dramas, Independent Movies</td>\n",
       "    </tr>\n",
       "  </tbody>\n",
       "</table>\n",
       "</div>"
      ],
      "text/plain": [
       "     show_id     type   title            director   country  date_added  \\\n",
       "537    s5965  TV Show   9-Feb           Not Given  Pakistan   3/20/2019   \n",
       "4260   s5966    Movie  22-Jul     Paul Greengrass    Norway  10/10/2018   \n",
       "4261   s5967    Movie  15-Aug  Swapnaneel Jayakar     India   3/29/2019   \n",
       "\n",
       "      release_year rating  duration                             listed_in  \n",
       "537           2018  TV-14  1 Season     International TV Shows, TV Dramas  \n",
       "4260          2018      R   144 min                     Dramas, Thrillers  \n",
       "4261          2019  TV-14   124 min  Comedies, Dramas, Independent Movies  "
      ]
     },
     "execution_count": 5,
     "metadata": {},
     "output_type": "execute_result"
    }
   ],
   "source": [
    "netflix1[netflix1.duplicated('title')]  #are these duplicated?"
   ]
  },
  {
   "cell_type": "code",
   "execution_count": 6,
   "id": "c702984e",
   "metadata": {},
   "outputs": [],
   "source": [
    "dup_title = ['9-Feb', '22-Jul', '15-Aug']\n",
    "dup = netflix1[netflix1['title'].isin(dup_title)] #yes, it is duplicated. Just have different show_id."
   ]
  },
  {
   "cell_type": "code",
   "execution_count": 7,
   "id": "68c4a7cc",
   "metadata": {},
   "outputs": [],
   "source": [
    "non_dup_netflix = netflix1.drop_duplicates('title') #no more duplicates"
   ]
  },
  {
   "cell_type": "code",
   "execution_count": 8,
   "id": "e6b57bd9",
   "metadata": {},
   "outputs": [
    {
     "data": {
      "text/plain": [
       "United States     3240\n",
       "India             1056\n",
       "United Kingdom     638\n",
       "Pakistan           420\n",
       "Not Given          287\n",
       "                  ... \n",
       "Iran                 1\n",
       "West Germany         1\n",
       "Greece               1\n",
       "Zimbabwe             1\n",
       "Soviet Union         1\n",
       "Name: country, Length: 86, dtype: int64"
      ]
     },
     "execution_count": 8,
     "metadata": {},
     "output_type": "execute_result"
    }
   ],
   "source": [
    "non_dup_netflix['country'].value_counts() #not given is null. "
   ]
  },
  {
   "cell_type": "code",
   "execution_count": 9,
   "id": "81a201f9",
   "metadata": {},
   "outputs": [],
   "source": [
    "country = non_dup_netflix[non_dup_netflix['country'] != 'Not Given'] #no more null."
   ]
  },
  {
   "cell_type": "code",
   "execution_count": 10,
   "id": "55e2cc03",
   "metadata": {},
   "outputs": [
    {
     "data": {
      "text/plain": [
       "United States     3240\n",
       "India             1056\n",
       "United Kingdom     638\n",
       "Pakistan           420\n",
       "Canada             271\n",
       "                  ... \n",
       "Iran                 1\n",
       "West Germany         1\n",
       "Greece               1\n",
       "Zimbabwe             1\n",
       "Soviet Union         1\n",
       "Name: country, Length: 85, dtype: int64"
      ]
     },
     "execution_count": 10,
     "metadata": {},
     "output_type": "execute_result"
    }
   ],
   "source": [
    "country['country'].value_counts()"
   ]
  },
  {
   "cell_type": "code",
   "execution_count": 11,
   "id": "d58db889",
   "metadata": {
    "scrolled": false
   },
   "outputs": [
    {
     "data": {
      "image/png": "[encoded data removed]",
      "text/plain": [
       "<Figure size 432x288 with 1 Axes>"
      ]
     },
     "metadata": {
      "needs_background": "light"
     },
     "output_type": "display_data"
    }
   ],
   "source": [
    "plot_country_30 = country['country'].value_counts()[:30].plot(kind = 'barh') "
   ]
  },
  {
   "cell_type": "code",
   "execution_count": 12,
   "id": "8e3688fa",
   "metadata": {},
   "outputs": [
    {
     "data": {
      "text/plain": [
       "Not Given                         2587\n",
       "Rajiv Chilaka                       20\n",
       "Raúl Campos, Jan Suter              18\n",
       "Alastair Fothergill                 18\n",
       "Marcus Raboy                        16\n",
       "                                  ... \n",
       "Parthiban                            1\n",
       "Scott McAboy                         1\n",
       "Raymie Muzquiz, Stu Livingston       1\n",
       "Joe Menendez                         1\n",
       "Mozez Singh                          1\n",
       "Name: director, Length: 4528, dtype: int64"
      ]
     },
     "execution_count": 12,
     "metadata": {},
     "output_type": "execute_result"
    }
   ],
   "source": [
    "non_dup_netflix['director'].value_counts() #Not given directors too!"
   ]
  },
  {
   "cell_type": "code",
   "execution_count": 13,
   "id": "2aa2c96d",
   "metadata": {},
   "outputs": [],
   "source": [
    "clean_directors = non_dup_netflix[non_dup_netflix['director'] !='Not Given'] #clean directors"
   ]
  },
  {
   "cell_type": "code",
   "execution_count": 14,
   "id": "f6e016b2",
   "metadata": {},
   "outputs": [
    {
     "data": {
      "image/png": "[encoded data removed]",
      "text/plain": [
       "<Figure size 432x288 with 1 Axes>"
      ]
     },
     "metadata": {
      "needs_background": "light"
     },
     "output_type": "display_data"
    }
   ],
   "source": [
    "top_20_directors = clean_directors['director'].value_counts()[:20].plot(kind = 'barh') #most directors. Which show country too? "
   ]
  },
  {
   "cell_type": "code",
   "execution_count": 15,
   "id": "874d3e91",
   "metadata": {},
   "outputs": [
    {
     "data": {
      "text/plain": [
       "country       director                             \n",
       "Argentina     Raúl Campos, Jan Suter                   5\n",
       "              Sebastián Schindel                       3\n",
       "              Alejandro Doria                          2\n",
       "              Alejandro Montiel                        2\n",
       "              Israel Adrián Caetano                    2\n",
       "                                                      ..\n",
       "Vietnam       Nguyen Thanh Tung                        1\n",
       "              Van M. Pham                              1\n",
       "              Victor Vu                                1\n",
       "West Germany  Joachim Fest, Christian Herrendoerfer    1\n",
       "Zimbabwe      Tomas Brickhill                          1\n",
       "Name: director, Length: 4688, dtype: int64"
      ]
     },
     "execution_count": 15,
     "metadata": {},
     "output_type": "execute_result"
    }
   ],
   "source": [
    "clean_directors.groupby('country')['director'].value_counts() # why does Raúl only have 5?"
   ]
  },
  {
   "cell_type": "code",
   "execution_count": 16,
   "id": "bdbe1c73",
   "metadata": {},
   "outputs": [
    {
     "data": {
      "text/html": [
       "<div>\n",
       "<style scoped>\n",
       "    .dataframe tbody tr th:only-of-type {\n",
       "        vertical-align: middle;\n",
       "    }\n",
       "\n",
       "    .dataframe tbody tr th {\n",
       "        vertical-align: top;\n",
       "    }\n",
       "\n",
       "    .dataframe thead th {\n",
       "        text-align: right;\n",
       "    }\n",
       "</style>\n",
       "<table border=\"1\" class=\"dataframe\">\n",
       "  <thead>\n",
       "    <tr style=\"text-align: right;\">\n",
       "      <th></th>\n",
       "      <th>show_id</th>\n",
       "      <th>type</th>\n",
       "      <th>title</th>\n",
       "      <th>director</th>\n",
       "      <th>country</th>\n",
       "      <th>date_added</th>\n",
       "      <th>release_year</th>\n",
       "      <th>rating</th>\n",
       "      <th>duration</th>\n",
       "      <th>listed_in</th>\n",
       "    </tr>\n",
       "  </thead>\n",
       "  <tbody>\n",
       "    <tr>\n",
       "      <th>3429</th>\n",
       "      <td>s5002</td>\n",
       "      <td>Movie</td>\n",
       "      <td>Malena Pichot: Estupidez compleja</td>\n",
       "      <td>Raúl Campos, Jan Suter</td>\n",
       "      <td>Argentina</td>\n",
       "      <td>3/2/2018</td>\n",
       "      <td>2018</td>\n",
       "      <td>TV-MA</td>\n",
       "      <td>51 min</td>\n",
       "      <td>Stand-Up Comedy</td>\n",
       "    </tr>\n",
       "    <tr>\n",
       "      <th>3441</th>\n",
       "      <td>s4750</td>\n",
       "      <td>Movie</td>\n",
       "      <td>Coco y Raulito: Carrusel de ternura</td>\n",
       "      <td>Raúl Campos, Jan Suter</td>\n",
       "      <td>Mexico</td>\n",
       "      <td>7/27/2018</td>\n",
       "      <td>2018</td>\n",
       "      <td>TV-MA</td>\n",
       "      <td>57 min</td>\n",
       "      <td>Stand-Up Comedy</td>\n",
       "    </tr>\n",
       "    <tr>\n",
       "      <th>3456</th>\n",
       "      <td>s4782</td>\n",
       "      <td>Movie</td>\n",
       "      <td>Luciano Mellera: Infantiloide</td>\n",
       "      <td>Raúl Campos, Jan Suter</td>\n",
       "      <td>Argentina</td>\n",
       "      <td>7/6/2018</td>\n",
       "      <td>2018</td>\n",
       "      <td>TV-14</td>\n",
       "      <td>66 min</td>\n",
       "      <td>Stand-Up Comedy</td>\n",
       "    </tr>\n",
       "    <tr>\n",
       "      <th>3480</th>\n",
       "      <td>s4809</td>\n",
       "      <td>Movie</td>\n",
       "      <td>Jani Dueñas: Grandes fracasos de ayer y hoy</td>\n",
       "      <td>Raúl Campos, Jan Suter</td>\n",
       "      <td>Chile</td>\n",
       "      <td>6/29/2018</td>\n",
       "      <td>2018</td>\n",
       "      <td>TV-MA</td>\n",
       "      <td>77 min</td>\n",
       "      <td>Stand-Up Comedy</td>\n",
       "    </tr>\n",
       "    <tr>\n",
       "      <th>3507</th>\n",
       "      <td>s4850</td>\n",
       "      <td>Movie</td>\n",
       "      <td>Fernando Sanjiao: Hombre</td>\n",
       "      <td>Raúl Campos, Jan Suter</td>\n",
       "      <td>Argentina</td>\n",
       "      <td>5/25/2018</td>\n",
       "      <td>2018</td>\n",
       "      <td>TV-MA</td>\n",
       "      <td>63 min</td>\n",
       "      <td>Stand-Up Comedy</td>\n",
       "    </tr>\n",
       "    <tr>\n",
       "      <th>3519</th>\n",
       "      <td>s4867</td>\n",
       "      <td>Movie</td>\n",
       "      <td>Carlos Ballarta: Furia Ñera</td>\n",
       "      <td>Raúl Campos, Jan Suter</td>\n",
       "      <td>Mexico</td>\n",
       "      <td>5/11/2018</td>\n",
       "      <td>2018</td>\n",
       "      <td>TV-MA</td>\n",
       "      <td>63 min</td>\n",
       "      <td>Stand-Up Comedy</td>\n",
       "    </tr>\n",
       "    <tr>\n",
       "      <th>3574</th>\n",
       "      <td>s4941</td>\n",
       "      <td>Movie</td>\n",
       "      <td>Todo lo que sería Lucas Lauriente</td>\n",
       "      <td>Raúl Campos, Jan Suter</td>\n",
       "      <td>Argentina</td>\n",
       "      <td>4/6/2018</td>\n",
       "      <td>2018</td>\n",
       "      <td>TV-MA</td>\n",
       "      <td>78 min</td>\n",
       "      <td>Stand-Up Comedy</td>\n",
       "    </tr>\n",
       "    <tr>\n",
       "      <th>3589</th>\n",
       "      <td>s4963</td>\n",
       "      <td>Movie</td>\n",
       "      <td>Sofía Niño de Rivera: Selección Natural</td>\n",
       "      <td>Raúl Campos, Jan Suter</td>\n",
       "      <td>Mexico</td>\n",
       "      <td>3/30/2018</td>\n",
       "      <td>2018</td>\n",
       "      <td>TV-MA</td>\n",
       "      <td>62 min</td>\n",
       "      <td>Stand-Up Comedy</td>\n",
       "    </tr>\n",
       "    <tr>\n",
       "      <th>3614</th>\n",
       "      <td>s5003</td>\n",
       "      <td>Movie</td>\n",
       "      <td>Natalia Valdebenito: El especial</td>\n",
       "      <td>Raúl Campos, Jan Suter</td>\n",
       "      <td>Chile</td>\n",
       "      <td>3/2/2018</td>\n",
       "      <td>2018</td>\n",
       "      <td>TV-MA</td>\n",
       "      <td>69 min</td>\n",
       "      <td>Stand-Up Comedy</td>\n",
       "    </tr>\n",
       "    <tr>\n",
       "      <th>3658</th>\n",
       "      <td>s5063</td>\n",
       "      <td>Movie</td>\n",
       "      <td>Sebastián Marcelo Wainraich</td>\n",
       "      <td>Raúl Campos, Jan Suter</td>\n",
       "      <td>Argentina</td>\n",
       "      <td>1/26/2018</td>\n",
       "      <td>2018</td>\n",
       "      <td>TV-MA</td>\n",
       "      <td>49 min</td>\n",
       "      <td>Stand-Up Comedy</td>\n",
       "    </tr>\n",
       "    <tr>\n",
       "      <th>3661</th>\n",
       "      <td>s5067</td>\n",
       "      <td>Movie</td>\n",
       "      <td>Ricardo Quevedo: Hay gente así</td>\n",
       "      <td>Raúl Campos, Jan Suter</td>\n",
       "      <td>Colombia</td>\n",
       "      <td>1/24/2018</td>\n",
       "      <td>2018</td>\n",
       "      <td>TV-MA</td>\n",
       "      <td>59 min</td>\n",
       "      <td>Stand-Up Comedy</td>\n",
       "    </tr>\n",
       "    <tr>\n",
       "      <th>3667</th>\n",
       "      <td>s5077</td>\n",
       "      <td>Movie</td>\n",
       "      <td>Arango y Sanint: Ríase el show</td>\n",
       "      <td>Raúl Campos, Jan Suter</td>\n",
       "      <td>Colombia</td>\n",
       "      <td>1/17/2018</td>\n",
       "      <td>2018</td>\n",
       "      <td>TV-MA</td>\n",
       "      <td>62 min</td>\n",
       "      <td>Stand-Up Comedy</td>\n",
       "    </tr>\n",
       "    <tr>\n",
       "      <th>3730</th>\n",
       "      <td>s5177</td>\n",
       "      <td>Movie</td>\n",
       "      <td>Mea Culpa</td>\n",
       "      <td>Raúl Campos, Jan Suter</td>\n",
       "      <td>Mexico</td>\n",
       "      <td>11/10/2017</td>\n",
       "      <td>2017</td>\n",
       "      <td>TV-MA</td>\n",
       "      <td>54 min</td>\n",
       "      <td>Stand-Up Comedy</td>\n",
       "    </tr>\n",
       "    <tr>\n",
       "      <th>3835</th>\n",
       "      <td>s5343</td>\n",
       "      <td>Movie</td>\n",
       "      <td>Alan Saldaña: Mi vida de pobre</td>\n",
       "      <td>Raúl Campos, Jan Suter</td>\n",
       "      <td>Mexico</td>\n",
       "      <td>8/4/2017</td>\n",
       "      <td>2017</td>\n",
       "      <td>TV-MA</td>\n",
       "      <td>54 min</td>\n",
       "      <td>Stand-Up Comedy</td>\n",
       "    </tr>\n",
       "    <tr>\n",
       "      <th>4022</th>\n",
       "      <td>s5615</td>\n",
       "      <td>Movie</td>\n",
       "      <td>Daniel Sosa: Sosafado</td>\n",
       "      <td>Raúl Campos, Jan Suter</td>\n",
       "      <td>Mexico</td>\n",
       "      <td>2/3/2017</td>\n",
       "      <td>2017</td>\n",
       "      <td>TV-MA</td>\n",
       "      <td>78 min</td>\n",
       "      <td>Stand-Up Comedy</td>\n",
       "    </tr>\n",
       "    <tr>\n",
       "      <th>4071</th>\n",
       "      <td>s5679</td>\n",
       "      <td>Movie</td>\n",
       "      <td>Ricardo O'Farrill: Abrazo navideño</td>\n",
       "      <td>Raúl Campos, Jan Suter</td>\n",
       "      <td>Mexico</td>\n",
       "      <td>12/12/2016</td>\n",
       "      <td>2016</td>\n",
       "      <td>TV-MA</td>\n",
       "      <td>31 min</td>\n",
       "      <td>Stand-Up Comedy</td>\n",
       "    </tr>\n",
       "    <tr>\n",
       "      <th>4164</th>\n",
       "      <td>s5840</td>\n",
       "      <td>Movie</td>\n",
       "      <td>Sofía Niño de Rivera: Exposed</td>\n",
       "      <td>Raúl Campos, Jan Suter</td>\n",
       "      <td>Mexico</td>\n",
       "      <td>6/24/2016</td>\n",
       "      <td>2016</td>\n",
       "      <td>TV-MA</td>\n",
       "      <td>80 min</td>\n",
       "      <td>Stand-Up Comedy</td>\n",
       "    </tr>\n",
       "    <tr>\n",
       "      <th>4184</th>\n",
       "      <td>s5873</td>\n",
       "      <td>Movie</td>\n",
       "      <td>Ricardo O'Farrill Abrazo Genial</td>\n",
       "      <td>Raúl Campos, Jan Suter</td>\n",
       "      <td>Mexico</td>\n",
       "      <td>1/22/2016</td>\n",
       "      <td>2016</td>\n",
       "      <td>TV-MA</td>\n",
       "      <td>92 min</td>\n",
       "      <td>Stand-Up Comedy</td>\n",
       "    </tr>\n",
       "  </tbody>\n",
       "</table>\n",
       "</div>"
      ],
      "text/plain": [
       "     show_id   type                                        title  \\\n",
       "3429   s5002  Movie            Malena Pichot: Estupidez compleja   \n",
       "3441   s4750  Movie          Coco y Raulito: Carrusel de ternura   \n",
       "3456   s4782  Movie                Luciano Mellera: Infantiloide   \n",
       "3480   s4809  Movie  Jani Dueñas: Grandes fracasos de ayer y hoy   \n",
       "3507   s4850  Movie                     Fernando Sanjiao: Hombre   \n",
       "3519   s4867  Movie                  Carlos Ballarta: Furia Ñera   \n",
       "3574   s4941  Movie            Todo lo que sería Lucas Lauriente   \n",
       "3589   s4963  Movie      Sofía Niño de Rivera: Selección Natural   \n",
       "3614   s5003  Movie             Natalia Valdebenito: El especial   \n",
       "3658   s5063  Movie                  Sebastián Marcelo Wainraich   \n",
       "3661   s5067  Movie               Ricardo Quevedo: Hay gente así   \n",
       "3667   s5077  Movie               Arango y Sanint: Ríase el show   \n",
       "3730   s5177  Movie                                    Mea Culpa   \n",
       "3835   s5343  Movie               Alan Saldaña: Mi vida de pobre   \n",
       "4022   s5615  Movie                        Daniel Sosa: Sosafado   \n",
       "4071   s5679  Movie           Ricardo O'Farrill: Abrazo navideño   \n",
       "4164   s5840  Movie                Sofía Niño de Rivera: Exposed   \n",
       "4184   s5873  Movie              Ricardo O'Farrill Abrazo Genial   \n",
       "\n",
       "                    director    country  date_added  release_year rating  \\\n",
       "3429  Raúl Campos, Jan Suter  Argentina    3/2/2018          2018  TV-MA   \n",
       "3441  Raúl Campos, Jan Suter     Mexico   7/27/2018          2018  TV-MA   \n",
       "3456  Raúl Campos, Jan Suter  Argentina    7/6/2018          2018  TV-14   \n",
       "3480  Raúl Campos, Jan Suter      Chile   6/29/2018          2018  TV-MA   \n",
       "3507  Raúl Campos, Jan Suter  Argentina   5/25/2018          2018  TV-MA   \n",
       "3519  Raúl Campos, Jan Suter     Mexico   5/11/2018          2018  TV-MA   \n",
       "3574  Raúl Campos, Jan Suter  Argentina    4/6/2018          2018  TV-MA   \n",
       "3589  Raúl Campos, Jan Suter     Mexico   3/30/2018          2018  TV-MA   \n",
       "3614  Raúl Campos, Jan Suter      Chile    3/2/2018          2018  TV-MA   \n",
       "3658  Raúl Campos, Jan Suter  Argentina   1/26/2018          2018  TV-MA   \n",
       "3661  Raúl Campos, Jan Suter   Colombia   1/24/2018          2018  TV-MA   \n",
       "3667  Raúl Campos, Jan Suter   Colombia   1/17/2018          2018  TV-MA   \n",
       "3730  Raúl Campos, Jan Suter     Mexico  11/10/2017          2017  TV-MA   \n",
       "3835  Raúl Campos, Jan Suter     Mexico    8/4/2017          2017  TV-MA   \n",
       "4022  Raúl Campos, Jan Suter     Mexico    2/3/2017          2017  TV-MA   \n",
       "4071  Raúl Campos, Jan Suter     Mexico  12/12/2016          2016  TV-MA   \n",
       "4164  Raúl Campos, Jan Suter     Mexico   6/24/2016          2016  TV-MA   \n",
       "4184  Raúl Campos, Jan Suter     Mexico   1/22/2016          2016  TV-MA   \n",
       "\n",
       "     duration        listed_in  \n",
       "3429   51 min  Stand-Up Comedy  \n",
       "3441   57 min  Stand-Up Comedy  \n",
       "3456   66 min  Stand-Up Comedy  \n",
       "3480   77 min  Stand-Up Comedy  \n",
       "3507   63 min  Stand-Up Comedy  \n",
       "3519   63 min  Stand-Up Comedy  \n",
       "3574   78 min  Stand-Up Comedy  \n",
       "3589   62 min  Stand-Up Comedy  \n",
       "3614   69 min  Stand-Up Comedy  \n",
       "3658   49 min  Stand-Up Comedy  \n",
       "3661   59 min  Stand-Up Comedy  \n",
       "3667   62 min  Stand-Up Comedy  \n",
       "3730   54 min  Stand-Up Comedy  \n",
       "3835   54 min  Stand-Up Comedy  \n",
       "4022   78 min  Stand-Up Comedy  \n",
       "4071   31 min  Stand-Up Comedy  \n",
       "4164   80 min  Stand-Up Comedy  \n",
       "4184   92 min  Stand-Up Comedy  "
      ]
     },
     "execution_count": 16,
     "metadata": {},
     "output_type": "execute_result"
    }
   ],
   "source": [
    "clean_directors[clean_directors['director'] == 'Raúl Campos, Jan Suter'] #Different places he directed. He likes movies and comedy\n"
   ]
  },
  {
   "cell_type": "code",
   "execution_count": 17,
   "id": "fd5e235c",
   "metadata": {},
   "outputs": [
    {
     "data": {
      "text/html": [
       "<div>\n",
       "<style scoped>\n",
       "    .dataframe tbody tr th:only-of-type {\n",
       "        vertical-align: middle;\n",
       "    }\n",
       "\n",
       "    .dataframe tbody tr th {\n",
       "        vertical-align: top;\n",
       "    }\n",
       "\n",
       "    .dataframe thead th {\n",
       "        text-align: right;\n",
       "    }\n",
       "</style>\n",
       "<table border=\"1\" class=\"dataframe\">\n",
       "  <thead>\n",
       "    <tr style=\"text-align: right;\">\n",
       "      <th></th>\n",
       "      <th>show_id</th>\n",
       "      <th>type</th>\n",
       "      <th>title</th>\n",
       "      <th>director</th>\n",
       "      <th>country</th>\n",
       "      <th>date_added</th>\n",
       "      <th>release_year</th>\n",
       "      <th>rating</th>\n",
       "      <th>duration</th>\n",
       "      <th>listed_in</th>\n",
       "    </tr>\n",
       "  </thead>\n",
       "  <tbody>\n",
       "    <tr>\n",
       "      <th>0</th>\n",
       "      <td>s1</td>\n",
       "      <td>Movie</td>\n",
       "      <td>Dick Johnson Is Dead</td>\n",
       "      <td>Kirsten Johnson</td>\n",
       "      <td>United States</td>\n",
       "      <td>9/25/2021</td>\n",
       "      <td>2020</td>\n",
       "      <td>PG-13</td>\n",
       "      <td>90 min</td>\n",
       "      <td>Documentaries</td>\n",
       "    </tr>\n",
       "    <tr>\n",
       "      <th>1</th>\n",
       "      <td>s3</td>\n",
       "      <td>TV Show</td>\n",
       "      <td>Ganglands</td>\n",
       "      <td>Julien Leclercq</td>\n",
       "      <td>France</td>\n",
       "      <td>9/24/2021</td>\n",
       "      <td>2021</td>\n",
       "      <td>TV-MA</td>\n",
       "      <td>1 Season</td>\n",
       "      <td>Crime TV Shows, International TV Shows, TV Act...</td>\n",
       "    </tr>\n",
       "    <tr>\n",
       "      <th>2</th>\n",
       "      <td>s6</td>\n",
       "      <td>TV Show</td>\n",
       "      <td>Midnight Mass</td>\n",
       "      <td>Mike Flanagan</td>\n",
       "      <td>United States</td>\n",
       "      <td>9/24/2021</td>\n",
       "      <td>2021</td>\n",
       "      <td>TV-MA</td>\n",
       "      <td>1 Season</td>\n",
       "      <td>TV Dramas, TV Horror, TV Mysteries</td>\n",
       "    </tr>\n",
       "    <tr>\n",
       "      <th>3</th>\n",
       "      <td>s14</td>\n",
       "      <td>Movie</td>\n",
       "      <td>Confessions of an Invisible Girl</td>\n",
       "      <td>Bruno Garotti</td>\n",
       "      <td>Brazil</td>\n",
       "      <td>9/22/2021</td>\n",
       "      <td>2021</td>\n",
       "      <td>TV-PG</td>\n",
       "      <td>91 min</td>\n",
       "      <td>Children &amp; Family Movies, Comedies</td>\n",
       "    </tr>\n",
       "    <tr>\n",
       "      <th>4</th>\n",
       "      <td>s8</td>\n",
       "      <td>Movie</td>\n",
       "      <td>Sankofa</td>\n",
       "      <td>Haile Gerima</td>\n",
       "      <td>United States</td>\n",
       "      <td>9/24/2021</td>\n",
       "      <td>1993</td>\n",
       "      <td>TV-MA</td>\n",
       "      <td>125 min</td>\n",
       "      <td>Dramas, Independent Movies, International Movies</td>\n",
       "    </tr>\n",
       "    <tr>\n",
       "      <th>...</th>\n",
       "      <td>...</td>\n",
       "      <td>...</td>\n",
       "      <td>...</td>\n",
       "      <td>...</td>\n",
       "      <td>...</td>\n",
       "      <td>...</td>\n",
       "      <td>...</td>\n",
       "      <td>...</td>\n",
       "      <td>...</td>\n",
       "      <td>...</td>\n",
       "    </tr>\n",
       "    <tr>\n",
       "      <th>8785</th>\n",
       "      <td>s8797</td>\n",
       "      <td>TV Show</td>\n",
       "      <td>Yunus Emre</td>\n",
       "      <td>Not Given</td>\n",
       "      <td>Turkey</td>\n",
       "      <td>1/17/2017</td>\n",
       "      <td>2016</td>\n",
       "      <td>TV-PG</td>\n",
       "      <td>2 Seasons</td>\n",
       "      <td>International TV Shows, TV Dramas</td>\n",
       "    </tr>\n",
       "    <tr>\n",
       "      <th>8786</th>\n",
       "      <td>s8798</td>\n",
       "      <td>TV Show</td>\n",
       "      <td>Zak Storm</td>\n",
       "      <td>Not Given</td>\n",
       "      <td>United States</td>\n",
       "      <td>9/13/2018</td>\n",
       "      <td>2016</td>\n",
       "      <td>TV-Y7</td>\n",
       "      <td>3 Seasons</td>\n",
       "      <td>Kids' TV</td>\n",
       "    </tr>\n",
       "    <tr>\n",
       "      <th>8787</th>\n",
       "      <td>s8801</td>\n",
       "      <td>TV Show</td>\n",
       "      <td>Zindagi Gulzar Hai</td>\n",
       "      <td>Not Given</td>\n",
       "      <td>Pakistan</td>\n",
       "      <td>12/15/2016</td>\n",
       "      <td>2012</td>\n",
       "      <td>TV-PG</td>\n",
       "      <td>1 Season</td>\n",
       "      <td>International TV Shows, Romantic TV Shows, TV ...</td>\n",
       "    </tr>\n",
       "    <tr>\n",
       "      <th>8788</th>\n",
       "      <td>s8784</td>\n",
       "      <td>TV Show</td>\n",
       "      <td>Yoko</td>\n",
       "      <td>Not Given</td>\n",
       "      <td>Pakistan</td>\n",
       "      <td>6/23/2018</td>\n",
       "      <td>2016</td>\n",
       "      <td>TV-Y</td>\n",
       "      <td>1 Season</td>\n",
       "      <td>Kids' TV</td>\n",
       "    </tr>\n",
       "    <tr>\n",
       "      <th>8789</th>\n",
       "      <td>s8786</td>\n",
       "      <td>TV Show</td>\n",
       "      <td>YOM</td>\n",
       "      <td>Not Given</td>\n",
       "      <td>Pakistan</td>\n",
       "      <td>6/7/2018</td>\n",
       "      <td>2016</td>\n",
       "      <td>TV-Y7</td>\n",
       "      <td>1 Season</td>\n",
       "      <td>Kids' TV</td>\n",
       "    </tr>\n",
       "  </tbody>\n",
       "</table>\n",
       "<p>8787 rows × 10 columns</p>\n",
       "</div>"
      ],
      "text/plain": [
       "     show_id     type                             title         director  \\\n",
       "0         s1    Movie              Dick Johnson Is Dead  Kirsten Johnson   \n",
       "1         s3  TV Show                         Ganglands  Julien Leclercq   \n",
       "2         s6  TV Show                     Midnight Mass    Mike Flanagan   \n",
       "3        s14    Movie  Confessions of an Invisible Girl    Bruno Garotti   \n",
       "4         s8    Movie                           Sankofa     Haile Gerima   \n",
       "...      ...      ...                               ...              ...   \n",
       "8785   s8797  TV Show                        Yunus Emre        Not Given   \n",
       "8786   s8798  TV Show                         Zak Storm        Not Given   \n",
       "8787   s8801  TV Show                Zindagi Gulzar Hai        Not Given   \n",
       "8788   s8784  TV Show                              Yoko        Not Given   \n",
       "8789   s8786  TV Show                               YOM        Not Given   \n",
       "\n",
       "            country  date_added  release_year rating   duration  \\\n",
       "0     United States   9/25/2021          2020  PG-13     90 min   \n",
       "1            France   9/24/2021          2021  TV-MA   1 Season   \n",
       "2     United States   9/24/2021          2021  TV-MA   1 Season   \n",
       "3            Brazil   9/22/2021          2021  TV-PG     91 min   \n",
       "4     United States   9/24/2021          1993  TV-MA    125 min   \n",
       "...             ...         ...           ...    ...        ...   \n",
       "8785         Turkey   1/17/2017          2016  TV-PG  2 Seasons   \n",
       "8786  United States   9/13/2018          2016  TV-Y7  3 Seasons   \n",
       "8787       Pakistan  12/15/2016          2012  TV-PG   1 Season   \n",
       "8788       Pakistan   6/23/2018          2016   TV-Y   1 Season   \n",
       "8789       Pakistan    6/7/2018          2016  TV-Y7   1 Season   \n",
       "\n",
       "                                              listed_in  \n",
       "0                                         Documentaries  \n",
       "1     Crime TV Shows, International TV Shows, TV Act...  \n",
       "2                    TV Dramas, TV Horror, TV Mysteries  \n",
       "3                    Children & Family Movies, Comedies  \n",
       "4      Dramas, Independent Movies, International Movies  \n",
       "...                                                 ...  \n",
       "8785                  International TV Shows, TV Dramas  \n",
       "8786                                           Kids' TV  \n",
       "8787  International TV Shows, Romantic TV Shows, TV ...  \n",
       "8788                                           Kids' TV  \n",
       "8789                                           Kids' TV  \n",
       "\n",
       "[8787 rows x 10 columns]"
      ]
     },
     "execution_count": 17,
     "metadata": {},
     "output_type": "execute_result"
    }
   ],
   "source": [
    "clean_d_dates = non_dup_netflix # lets work with the dates. \n",
    "clean_d_dates"
   ]
  },
  {
   "cell_type": "code",
   "execution_count": 18,
   "id": "760e88b2",
   "metadata": {},
   "outputs": [
    {
     "data": {
      "text/plain": [
       "dtype('O')"
      ]
     },
     "execution_count": 18,
     "metadata": {},
     "output_type": "execute_result"
    }
   ],
   "source": [
    "clean_d_dates['date_added'].dtype #looks like date_added is an object. Or it was"
   ]
  },
  {
   "cell_type": "code",
   "execution_count": 19,
   "id": "331d8455",
   "metadata": {},
   "outputs": [
    {
     "name": "stderr",
     "output_type": "stream",
     "text": [
      "/var/folders/95/k4dp73ld2pv507gy2rvpk3n40000gn/T/ipykernel_3593/928771322.py:1: SettingWithCopyWarning: \n",
      "A value is trying to be set on a copy of a slice from a DataFrame.\n",
      "Try using .loc[row_indexer,col_indexer] = value instead\n",
      "\n",
      "See the caveats in the documentation: https://pandas.pydata.org/pandas-docs/stable/user_guide/indexing.html#returning-a-view-versus-a-copy\n",
      "  clean_d_dates['date_added'] = pd.to_datetime(clean_d_dates['date_added'])\n"
     ]
    }
   ],
   "source": [
    "clean_d_dates['date_added'] = pd.to_datetime(clean_d_dates['date_added'])"
   ]
  },
  {
   "cell_type": "code",
   "execution_count": 20,
   "id": "b209c8a3",
   "metadata": {},
   "outputs": [
    {
     "name": "stderr",
     "output_type": "stream",
     "text": [
      "/var/folders/95/k4dp73ld2pv507gy2rvpk3n40000gn/T/ipykernel_3593/4214161591.py:1: SettingWithCopyWarning: \n",
      "A value is trying to be set on a copy of a slice from a DataFrame.\n",
      "Try using .loc[row_indexer,col_indexer] = value instead\n",
      "\n",
      "See the caveats in the documentation: https://pandas.pydata.org/pandas-docs/stable/user_guide/indexing.html#returning-a-view-versus-a-copy\n",
      "  clean_d_dates['year'] = clean_d_dates['date_added'].dt.year # error\n"
     ]
    }
   ],
   "source": [
    "clean_d_dates['year'] = clean_d_dates['date_added'].dt.year # error"
   ]
  },
  {
   "cell_type": "code",
   "execution_count": 21,
   "id": "e27b3ba4",
   "metadata": {},
   "outputs": [
    {
     "data": {
      "text/plain": [
       "<AxesSubplot:>"
      ]
     },
     "execution_count": 21,
     "metadata": {},
     "output_type": "execute_result"
    },
    {
     "data": {
      "image/png": "[encoded data removed]",
      "text/plain": [
       "<Figure size 432x288 with 1 Axes>"
      ]
     },
     "metadata": {
      "needs_background": "light"
     },
     "output_type": "display_data"
    }
   ],
   "source": [
    "clean_d_dates['year'].value_counts().sort_index().plot.line() #Boom! Most were added from 2017 - 2019\n"
   ]
  },
  {
   "cell_type": "code",
   "execution_count": 22,
   "id": "6571b360",
   "metadata": {},
   "outputs": [],
   "source": [
    "#Tv vs movies. Which has more? \n",
    "#Rating\n",
    "# HARD but working with listed in "
   ]
  },
  {
   "cell_type": "code",
   "execution_count": 33,
   "id": "593d6225",
   "metadata": {},
   "outputs": [
    {
     "data": {
      "image/png": "[encoded data removed]",
      "text/plain": [
       "<Figure size 432x288 with 1 Axes>"
      ]
     },
     "metadata": {
      "needs_background": "light"
     },
     "output_type": "display_data"
    }
   ],
   "source": [
    "Movie_TV = non_dup_netflix['type'].value_counts().plot(kind = 'bar')\n",
    "plt.xlabel(\"Type\")\n",
    "plt.ylabel(\"Amount Listed\")\n",
    "plt.title(\"Movies Vs Tv Shows in Netflix\")\n",
    "plt.show()"
   ]
  },
  {
   "cell_type": "code",
   "execution_count": 34,
   "id": "66b55f3e",
   "metadata": {},
   "outputs": [
    {
     "data": {
      "image/png": "[encoded data removed]",
      "text/plain": [
       "<Figure size 432x288 with 1 Axes>"
      ]
     },
     "metadata": {
      "needs_background": "light"
     },
     "output_type": "display_data"
    }
   ],
   "source": [
    "Rating_Amount = non_dup_netflix['rating'].value_counts().plot(kind = 'bar')"
   ]
  },
  {
   "cell_type": "code",
   "execution_count": null,
   "id": "2f5775be",
   "metadata": {},
   "outputs": [],
   "source": []
  }
 ],
 "metadata": {
  "kernelspec": {
   "display_name": "Python 3 (ipykernel)",
   "language": "python",
   "name": "python3"
  },
  "language_info": {
   "codemirror_mode": {
    "name": "ipython",
    "version": 3
   },
   "file_extension": ".py",
   "mimetype": "text/x-python",
   "name": "python",
   "nbconvert_exporter": "python",
   "pygments_lexer": "ipython3",
   "version": "3.9.7"
  }
 },
 "nbformat": 4,
 "nbformat_minor": 5
}
